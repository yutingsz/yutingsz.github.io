{
 "cells": [
  {
   "cell_type": "markdown",
   "metadata": {},
   "source": [
    "## Logistic classification with cross-entropy\n",
    "This tutorial will cover how to classify a binary classification problem with help of the logistic function and the cross-entropy loss function.\n",
    "\n",
    "If we want to do classification with neural networks we want to output a probability distribution over the classes from the output targets $t$. For the classification of 2 classes $t=1$ or $t=0$ we can use the logistic function used in logistic regression. For multiclass classification there exists an extension of this logistic function called the softmax function which is used in multinomial logistic regression . The following section will explain the softmax function and how to derive it. What follows here will explain the logistic function and how to optimize it."
   ]
  },
  {
   "cell_type": "markdown",
   "metadata": {},
   "source": [
    "## Logistic function\n",
    "The goal is to predict the target class $t$ from an input $z$. The probability $P(t=1|z)$ that input z is classified as class \n",
    "$t=1$ is represented by the output $y$ of the logistic function computed as $y=\\sigma(z)$. The logistic function $\\sigma$ is defined as:\n",
    "\n",
    "$$\\sigma(z) = \\frac{1}{1+e^{-z}}$$"
   ]
  },
  {
   "cell_type": "markdown",
   "metadata": {},
   "source": [
    "We can write the probabilities that the class is $t=1$ or $t=0$ given input $z$ as:\n",
    "$$P(t=1|z) = \\sigma(z) = \\frac{1}{1+e^{-z}}$$\n",
    "\n",
    "$$P(t=0|z) = 1-\\sigma(z) = \\frac{e^{-z}}{1+e^{-z}}$$\n",
    "\n",
    "Note that input $z$ to the logistic function corresponds to the log odds ratio of $P(t=1|z)$ over $P(t=0|z)$: \n",
    "$$ \\log \\frac{P(t=1|z)}{P(t=0|z)} = \\log \\frac{1}{e^{-z}} = \\log(1) - \\log(e^{-z}) = z$$\n",
    "This means that the logg odds ratio $\\log \\frac{P(t=1|z)}{P(t=0|z)}$ changes linearly with $z$."
   ]
  },
  {
   "cell_type": "code",
   "execution_count": 7,
   "metadata": {},
   "outputs": [],
   "source": [
    "import numpy as np\n",
    "import matplotlib.pyplot as plt"
   ]
  },
  {
   "cell_type": "code",
   "execution_count": 8,
   "metadata": {},
   "outputs": [],
   "source": [
    "def logistic(z):\n",
    "    \"\"\"Logistic function.\"\"\"\n",
    "    return 1 / (1 + np.exp(-z))"
   ]
  },
  {
   "cell_type": "code",
   "execution_count": 9,
   "metadata": {},
   "outputs": [
    {
     "data": {
      "image/png": "[encoded data removed]",
      "text/plain": [
       "<Figure size 360x216 with 1 Axes>"
      ]
     },
     "metadata": {
      "needs_background": "light"
     },
     "output_type": "display_data"
    }
   ],
   "source": [
    "# Plot the logistic function\n",
    "z = np.linspace(-8, 8, 100)\n",
    "fig = plt.figure(figsize=(5,3))\n",
    "plt.plot(z, logistic(z), 'b-')\n",
    "plt.xlabel('$z$', fontsize=12)\n",
    "plt.ylabel('$\\sigma(z)$', fontsize=12)\n",
    "plt.title('logistic function')\n",
    "plt.xlim(-8, 8)\n",
    "fig.subplots_adjust(bottom=0.15)\n",
    "plt.show()\n",
    "#"
   ]
  },
  {
   "cell_type": "code",
   "execution_count": 1,
   "metadata": {},
   "outputs": [
    {
     "name": "stdout",
     "output_type": "stream",
     "text": [
      "Microsoft Visual C++ Redistributable is not installed, this may lead to the DLL load failure.\n",
      "                 It can be downloaded at https://aka.ms/vs/16/release/vc_redist.x64.exe\n",
      "tensor(0.0061)\n"
     ]
    }
   ],
   "source": [
    "# Import torch\n",
    "import torch\n",
    "import torch.nn as nn\n",
    "\n",
    "\n",
    "logits = torch.tensor([[10.2, 5.1, -1.7]])\n",
    "ground_truth = torch.tensor([0])\n",
    "criterion = nn.CrossEntropyLoss()\n",
    "loss = criterion(logits, ground_truth)\n",
    "print(loss)"
   ]
  }
 ],
 "metadata": {
  "kernelspec": {
   "display_name": "Python 3",
   "language": "python",
   "name": "python3"
  },
  "language_info": {
   "codemirror_mode": {
    "name": "ipython",
    "version": 3
   },
   "file_extension": ".py",
   "mimetype": "text/x-python",
   "name": "python",
   "nbconvert_exporter": "python",
   "pygments_lexer": "ipython3",
   "version": "3.8.5"
  }
 },
 "nbformat": 4,
 "nbformat_minor": 4
}
